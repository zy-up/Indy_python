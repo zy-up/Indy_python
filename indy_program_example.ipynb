{
 "cells": [
  {
   "cell_type": "markdown",
   "metadata": {},
   "source": [
    "# Connect to Indy by IndyDCP\n",
    "\n",
    "* **robot_ip**: IP address of robot (actually, STEP in IndyCB)\n",
    "* **name**: string represents robot model\n",
    "    * Indy7: \"NRMK-Indy7\"\n",
    "    * IndyRP2: \"NRMK-IndyRP2\"\n",
    "    \n"
   ]
  },
  {
   "cell_type": "code",
   "execution_count": 1,
   "metadata": {
    "pycharm": {
     "is_executing": false
    },
    "scrolled": true
   },
   "outputs": [],
   "source": [
    "from indy_utils import indydcp_client as client\n",
    "from indy_utils.indy_program_maker import JsonProgramComponent\n",
    "\n",
    "import json\n",
    "import threading\n",
    "from time import sleep\n",
    "\n",
    "# Set robot (server) IP \n",
    "robot_ip = \"141.223.199.180\"  # Robot (Indy) IP\n",
    "\n",
    "# Set robot name\n",
    "name = \"NRMK-Indy7\"  # Robot name (Indy7)\n",
    "# name = \"NRMK-IndyRP2\"  # Robot name (IndyRP2)\n",
    "\n",
    "# Create class object\n",
    "indy = client.IndyDCPClient(robot_ip, name)"
   ]
  },
  {
   "cell_type": "code",
   "execution_count": 2,
   "metadata": {},
   "outputs": [
    {
     "name": "stdout",
     "output_type": "stream",
     "text": [
      "Connect: Server IP (141.223.199.180)\n"
     ]
    }
   ],
   "source": [
    "# Connect to robot\n",
    "indy.connect()\n",
    "\n",
    "# Disconnect with robot\n",
    "# recommanded for finishing program properly\n",
    "indy.disconnect()"
   ]
  },
  {
   "cell_type": "markdown",
   "metadata": {},
   "source": [
    "# Examples of JSON Program maker using extended IndyDCP"
   ]
  },
  {
   "cell_type": "markdown",
   "metadata": {},
   "source": [
    "## Make program example-0: initial and terminal conditions of a program\n",
    "### Initial statement\n",
    "* **prog = JsonProgramComponent(policy=0, resume_time=2)**\n",
    "    * policy: collision policy (0: keep pause, 1: resume after 'resume_time', 2: stop program, 3: no collision detection)\n",
    "    \n",
    "### Program body\n",
    "* **prog.add_move_home()** : go to home position\n",
    "* **prog.add_move_zero()** : go to zero position\n",
    "\n",
    "### Terminal statement\n",
    "* **prog_json = prog.program_done()**  : finish to make program, and return JSON string to be sent to 'indy'\n",
    "* **indy.set_and_start_json_program(prog_json)** : start the made program\n",
    "* **indy.set_and_start_json_program(prog.program_done())**  : more simple way"
   ]
  },
  {
   "cell_type": "code",
   "execution_count": 3,
   "metadata": {
    "pycharm": {
     "is_executing": false
    },
    "scrolled": true
   },
   "outputs": [
    {
     "name": "stdout",
     "output_type": "stream",
     "text": [
      "Connect: Server IP (141.223.199.180)\n"
     ]
    }
   ],
   "source": [
    "indy.connect()\n",
    "\n",
    "indy.set_joint_vel_level(3)\n",
    "\n",
    "prog = JsonProgramComponent(policy=1, resume_time=2)  # Init. prgoram\n",
    "\n",
    "prog.add_move_home()\n",
    "prog.add_move_zero()\n",
    "prog.add_move_home()\n",
    "\n",
    "prog_json = prog.program_done()    # Program end\n",
    "\n",
    "indy.set_and_start_json_program(prog_json) # Execute program\n",
    "\n",
    "indy.disconnect()"
   ]
  },
  {
   "cell_type": "code",
   "execution_count": 4,
   "metadata": {
    "scrolled": true
   },
   "outputs": [
    {
     "name": "stdout",
     "output_type": "stream",
     "text": [
      "Connect: Server IP (141.223.199.180)\n"
     ]
    }
   ],
   "source": [
    "indy.connect()\n",
    "\n",
    "indy.set_joint_vel_level(3)\n",
    "\n",
    "prog = JsonProgramComponent(policy=1, resume_time=2)  # Init. prgoram\n",
    "\n",
    "prog.add_move_home()\n",
    "prog.add_endtool_do(type=0, value=0)\n",
    "prog.add_move_zero()\n",
    "prog.add_wait(1)\n",
    "prog.add_move_home()\n",
    "prog.add_endtool_do(type=0, value=1)\n",
    "\n",
    "prog_json = prog.program_done()\n",
    "\n",
    "indy.set_and_start_json_program(prog_json) # Execute program\n",
    "\n",
    "indy.disconnect()"
   ]
  },
  {
   "cell_type": "markdown",
   "metadata": {},
   "source": [
    "## Make program example-0: get teaching positions (joint/task) and save it\n",
    "* __indy.get_joint_pos()__  : get current joint angle (degree)\n",
    "* __indy.get_task_pos()__  : get current task-space pose (meter, and degree)"
   ]
  },
  {
   "cell_type": "code",
   "execution_count": 5,
   "metadata": {},
   "outputs": [
    {
     "name": "stdout",
     "output_type": "stream",
     "text": [
      "Connect: Server IP (192.168.3.134)\n"
     ]
    },
    {
     "data": {
      "text/plain": [
       "True"
      ]
     },
     "execution_count": 5,
     "metadata": {},
     "output_type": "execute_result"
    }
   ],
   "source": [
    "indy.connect()"
   ]
  },
  {
   "cell_type": "code",
   "execution_count": 6,
   "metadata": {},
   "outputs": [
    {
     "name": "stdout",
     "output_type": "stream",
     "text": [
      "[89.9968235152047, 4.628970376704431e-16, -89.99882348905999, -3.286173052283782e-15, -90.00182344984296, 4.116204156532818e-16]\n",
      "[0.18651940361205846, 0.3499870854095014, 0.5220071869108897, 1.7312906772995156e-14, -179.99935306109705, 89.9968235152047]\n"
     ]
    }
   ],
   "source": [
    "print(indy.get_joint_pos())\n",
    "print(indy.get_task_pos())"
   ]
  },
  {
   "cell_type": "markdown",
   "metadata": {},
   "source": [
    "* **indy.update_teaching_data(file_name, waypoint_name, position)**\n",
    "    * Add teaching points and save it as a file\n",
    "    * You MUST properly choose joint_move or task_move.\n",
    "    * We recommand prefix 'j_' or 't_' to represent joint and task"
   ]
  },
  {
   "cell_type": "code",
   "execution_count": 7,
   "metadata": {},
   "outputs": [],
   "source": [
    "file_name = 'test.json'\n",
    "teach_config = indy.update_teaching_data(file_name, 'j_wp1', indy.get_joint_pos())\n",
    "teach_config = indy.update_teaching_data(file_name, 't_wp1', indy.get_task_pos())"
   ]
  },
  {
   "cell_type": "code",
   "execution_count": 10,
   "metadata": {},
   "outputs": [],
   "source": [
    "teach_config = indy.update_teaching_data(file_name, 'j_wp2', indy.get_joint_pos())\n",
    "teach_config = indy.update_teaching_data(file_name, 't_wp2', indy.get_task_pos())"
   ]
  },
  {
   "cell_type": "code",
   "execution_count": 11,
   "metadata": {},
   "outputs": [],
   "source": [
    "teach_config = indy.update_teaching_data(file_name, 'j_wp3', indy.get_joint_pos())\n",
    "teach_config = indy.update_teaching_data(file_name, 't_wp3', indy.get_task_pos())"
   ]
  },
  {
   "cell_type": "code",
   "execution_count": 8,
   "metadata": {},
   "outputs": [],
   "source": [
    "teach_config = indy.update_teaching_data(file_name, 'j_wp4', indy.get_joint_pos())\n",
    "teach_config = indy.update_teaching_data(file_name, 't_wp4', indy.get_task_pos())"
   ]
  },
  {
   "cell_type": "code",
   "execution_count": 7,
   "metadata": {},
   "outputs": [],
   "source": [
    "indy.disconnect()"
   ]
  },
  {
   "cell_type": "markdown",
   "metadata": {},
   "source": [
    "## Make program example-1: Joint move with several waypoints\n",
    "### Arguments: \n",
    "* Robot velocity level: 1 - 9\n",
    "* Joint move blending radius: 3-27 [deg]"
   ]
  },
  {
   "cell_type": "code",
   "execution_count": 2,
   "metadata": {
    "scrolled": true
   },
   "outputs": [
    {
     "data": {
      "text/plain": [
       "{'t_prepick': [0.35009765625,\n",
       "  -0.1865234375,\n",
       "  0.52197265625,\n",
       "  180.0,\n",
       "  6.556510925292969e-07,\n",
       "  90.0],\n",
       " 't_wp1': [0.4677734375,\n",
       "  -0.14111328125,\n",
       "  0.3837890625,\n",
       "  174.0,\n",
       "  2.912109375,\n",
       "  143.125],\n",
       " 'j_wp1': [4.3125, -13.5390625, -96.25, 2.88671875, -64.0625, 39.875],\n",
       " 'j_wp2': [-20.53125, -12.9921875, -88.75, 5.125, -73.8125, 14.890625],\n",
       " 'j_wp3': [6.69140625, -17.859375, -96.75, 2.712890625, -59.15625, 42.03125],\n",
       " 'j_wp4': [37.90625, -8.046875, -95.125, -1.3134765625, -70.125, 74.875],\n",
       " 't_wp2': [0.370849609375,\n",
       "  -0.31640625,\n",
       "  0.4248046875,\n",
       "  174.0,\n",
       "  2.91796875,\n",
       "  143.125],\n",
       " 't_wp3': [0.494873046875,\n",
       "  -0.12017822265625,\n",
       "  0.348388671875,\n",
       "  174.0,\n",
       "  2.94921875,\n",
       "  143.25],\n",
       " 't_wp4': [0.457763671875,\n",
       "  0.11383056640625,\n",
       "  0.443359375,\n",
       "  173.875,\n",
       "  2.96875,\n",
       "  143.25]}"
      ]
     },
     "execution_count": 2,
     "metadata": {},
     "output_type": "execute_result"
    }
   ],
   "source": [
    "file_name = 'test.json'\n",
    "teach_config = indy.load_teaching_data(file_name)\n",
    "\n",
    "teach_config"
   ]
  },
  {
   "cell_type": "code",
   "execution_count": 3,
   "metadata": {},
   "outputs": [],
   "source": [
    "j_wp1 = teach_config['j_wp1']\n",
    "j_wp2 = teach_config['j_wp2']\n",
    "j_wp3 = teach_config['j_wp3']\n",
    "j_wp4 = teach_config['j_wp4']\n",
    "\n",
    "t_wp1 = teach_config['t_wp1']\n",
    "t_wp2 = teach_config['t_wp2']\n",
    "t_wp3 = teach_config['t_wp3']\n",
    "t_wp4 = teach_config['t_wp4']"
   ]
  },
  {
   "cell_type": "code",
   "execution_count": 4,
   "metadata": {
    "scrolled": true
   },
   "outputs": [
    {
     "name": "stdout",
     "output_type": "stream",
     "text": [
      "Connect: Server IP (192.168.3.134)\n"
     ]
    }
   ],
   "source": [
    "# Joint Move\n",
    "indy.connect()\n",
    "\n",
    "vel = 5\n",
    "blend = 20\n",
    "\n",
    "prog = JsonProgramComponent(policy=0, resume_time=2)                \n",
    "prog.add_joint_move_to(j_wp1, vel=vel, blend=blend)\n",
    "prog.add_joint_move_to(j_wp2, vel=vel, blend=blend)\n",
    "prog.add_joint_move_to(j_wp3, vel=vel, blend=blend)\n",
    "prog.add_joint_move_to(j_wp4, vel=vel, blend=blend)\n",
    "\n",
    "prog_json = prog.program_done()\n",
    "indy.set_and_start_json_program(prog_json)\n",
    "\n",
    "# indy.disconnect()"
   ]
  },
  {
   "cell_type": "code",
   "execution_count": null,
   "metadata": {},
   "outputs": [],
   "source": [
    "# indy.stop_current_program()\n",
    "# indy.pause_current_program()\n",
    "# indy.resume_current_program()"
   ]
  },
  {
   "cell_type": "code",
   "execution_count": 5,
   "metadata": {},
   "outputs": [],
   "source": [
    "indy.disconnect()"
   ]
  },
  {
   "cell_type": "markdown",
   "metadata": {},
   "source": [
    "## Make program example-2: Task move with several waypoints\n",
    "### Arguments: \n",
    "* Robot velocity level: 1 - 9\n",
    "* Task move blending radius: 0.02 - 0.2 [mm]"
   ]
  },
  {
   "cell_type": "code",
   "execution_count": 6,
   "metadata": {},
   "outputs": [
    {
     "name": "stdout",
     "output_type": "stream",
     "text": [
      "Connect: Server IP (192.168.3.134)\n"
     ]
    }
   ],
   "source": [
    "# Task Move\n",
    "indy.connect()\n",
    "\n",
    "vel = 5\n",
    "blend = 0.2\n",
    "\n",
    "prog = JsonProgramComponent(policy=0, resume_time=2)                \n",
    "prog.add_task_move_to(t_wp1, vel=vel, blend=blend)\n",
    "prog.add_task_move_to(t_wp2, vel=vel, blend=blend)\n",
    "prog.add_task_move_to(t_wp3, vel=vel, blend=blend)\n",
    "prog.add_task_move_to(t_wp4, vel=vel, blend=blend)\n",
    "\n",
    "indy.set_and_start_json_program(prog.program_done())\n",
    "\n",
    "indy.disconnect()"
   ]
  },
  {
   "cell_type": "markdown",
   "metadata": {},
   "source": [
    "## Make program example-3: Use of digital output and tool command\n"
   ]
  },
  {
   "cell_type": "code",
   "execution_count": 7,
   "metadata": {},
   "outputs": [
    {
     "name": "stdout",
     "output_type": "stream",
     "text": [
      "Connect: Server IP (192.168.3.134)\n"
     ]
    }
   ],
   "source": [
    "# Simple example\n",
    "indy.connect()\n",
    "\n",
    "vel = 5\n",
    "j_blend = 20\n",
    "t_blend = 0.2\n",
    "\n",
    "prog = JsonProgramComponent(policy=0, resume_time=2)\n",
    "\n",
    "prog.add_move_home()  \n",
    "prog.add_joint_move_to(j_wp1, vel=vel) \n",
    "\n",
    "# Turns on digital output of port indices from 0 to 7 (0: OFF, 1: ON)\n",
    "for idx in range(0, 8):\n",
    "    prog.add_digital_out(idx=idx, val=1)\n",
    "\n",
    "# Wait for set time\n",
    "prog.add_wait(1)\n",
    "\n",
    "# Tool command of tool ID and its command\n",
    "# Tool should be first set up in Conty Application (Setting - Tool)\n",
    "# In Conty,add tool and set application (e.g. Pick & Place)\n",
    "# Edit Hold and Release Output and update the tool (refer the Indy manual)\n",
    "prog.add_endtool_do(type=0, value=0)\n",
    "prog.add_wait(1)\n",
    "prog.add_endtool_do(type=0, value=1)\n",
    "\n",
    "prog.add_task_move_to(t_wp2, vel=vel, blend=t_blend)\n",
    "prog.add_task_move_to(t_wp3, vel=vel, blend=t_blend)\n",
    "prog.add_task_move_to(t_wp4, vel=vel, blend=t_blend)\n",
    "\n",
    "# Turns off digital output of port indices from 0 to 7 (0: OFF, 1: ON)\n",
    "for idx in range(0, 8):\n",
    "    prog.add_digital_out(idx=idx, val=0)\n",
    "\n",
    "prog.add_stop()  # Stop program\n",
    "\n",
    "indy.set_and_start_json_program(prog.program_done())\n",
    "\n",
    "indy.disconnect()"
   ]
  },
  {
   "cell_type": "markdown",
   "metadata": {},
   "source": [
    "## Make program example-4: Sync motion and async motion\n",
    "* **indy.wait_for_program_finish() :** this command can synchronize several robot programs"
   ]
  },
  {
   "cell_type": "code",
   "execution_count": 8,
   "metadata": {},
   "outputs": [
    {
     "name": "stdout",
     "output_type": "stream",
     "text": [
      "Connect: Server IP (192.168.3.134)\n",
      "Program Finished:  True\n",
      "Program Finished:  True\n",
      "Program Finished:  True\n",
      "Program Finished:  True\n"
     ]
    }
   ],
   "source": [
    "# Async and sync example\n",
    "indy.connect()\n",
    "\n",
    "vel = 5\n",
    "blend = 20\n",
    "\n",
    "# Program loop 2 times\n",
    "for i in range(0,2):\n",
    "    # Syncronization with Second program after initail loop\n",
    "    # Wait until Second program is finished with above command (getting postion)\n",
    "    indy.wait_for_program_finish()\n",
    "\n",
    "    # First program\n",
    "    prog = JsonProgramComponent(policy=0, resume_time=2)\n",
    "    prog.add_joint_move_to(j_wp2, vel=vel, blend=blend)\n",
    "    prog.add_move_home()\n",
    "    \n",
    "    indy.set_and_start_json_program(prog.program_done())    \n",
    "    \n",
    "    # Asyncronization with Second program\n",
    "    # Wait until First program is finished, after then below program is executed\n",
    "    indy.wait_for_program_finish()\n",
    "\n",
    "    # Second program\n",
    "    prog = JsonProgramComponent(policy=0, resume_time=2)                \n",
    "    prog.add_task_move_to(t_wp3, vel=vel, blend=blend)\n",
    "    prog.add_move_home()\n",
    "\n",
    "    indy.set_and_start_json_program(prog.program_done())\n",
    "    \n",
    "indy.disconnect()"
   ]
  },
  {
   "cell_type": "markdown",
   "metadata": {},
   "source": [
    "## Make program example-5: Multi-threading for interfacing other devices (buttons, sensors,...)"
   ]
  },
  {
   "cell_type": "code",
   "execution_count": 2,
   "metadata": {},
   "outputs": [
    {
     "name": "stdout",
     "output_type": "stream",
     "text": [
      "Connect: Server IP (141.223.199.180)\n"
     ]
    },
    {
     "data": {
      "text/plain": [
       "True"
      ]
     },
     "execution_count": 2,
     "metadata": {},
     "output_type": "execute_result"
    }
   ],
   "source": [
    "indy.connect()"
   ]
  },
  {
   "cell_type": "code",
   "execution_count": 3,
   "metadata": {
    "scrolled": true
   },
   "outputs": [
    {
     "name": "stdout",
     "output_type": "stream",
     "text": [
      "Button 1/2/3 = [0, 0, 0]\n",
      "Joint angles:  [-1.216559328548656e-17, -0.1709672480904656, -1.0258034885427953, -4.967269119970201e-16, -0.8548362404523283, 5.031326368611386e-16]\n",
      "Task pose [0.04196586527977599, -0.18649999999999997, 1.3266002881705172, 180.0, 174.87615401771478, 179.99999999999997]\n",
      "Button 1/2/3 = [0, 0, 0]\n",
      "Button 1/2/3 = [0, 0, 0]\n",
      "Joint angles:  [-8.590126983569063e-17, -1.5473801269172411, -9.284280761503462, 1.7448591836590315e-16, -7.73690063458622, -9.808056997563282e-17]\n",
      "Task pose [0.24944024935072742, -0.18649999999999997, 1.2763587719361, 180.0, 148.5849415203238, 179.99999999999997]\n",
      "Button 1/2/3 = [0, 0, 0]\n",
      "Button 1/2/3 = [0, 0, 0]\n",
      "Joint angles:  [-2.9390196636504614e-16, -4.569587535098284, -27.417525210589666, 2.8662372228181653e-15, -22.847937675491373, -2.5149596637737463e-15]\n",
      "Task pose [0.47851936081000684, -0.1865, 1.1035227959773564, 179.99999999999997, 112.14800581076766, 179.99999999999994]\n",
      "Button 1/2/3 = [0, 0, 0]\n",
      "Button 1/2/3 = [0, 0, 0]\n",
      "Joint angles:  [-2.075761276639475e-16, -7.318359809845483, -43.91015885907282, 4.3554102652544544e-15, -36.591799049227355, -3.736088221686305e-15]\n",
      "Task pose [0.5933585269420919, -0.1865, 0.8650535505283488, 6.589546402605607e-14, 103.44965326558011, 6.101446890885676e-14]\n",
      "Button 1/2/3 = [0, 0, 0]\n",
      "Joint angles:  [-3.1813697902133653e-16, -10.067166686219524, -60.403000117317255, 3.2494102811960406e-15, -50.335833431097576, -2.5146419405787977e-15]\n",
      "Task pose [0.6007077380354818, -0.18650000000000003, 0.6960317166483754, 2.2137833456233624e-14, 127.7571749290746, 1.623822253387819e-14]\n",
      "Button 1/2/3 = [0, 0, 0]\n",
      "Button 1/2/3 = [0, 0, 0]\n",
      "Joint angles:  [-3.072366658961511e-16, -12.452585389644636, -74.71551233786778, 1.45458285559418e-15, -62.262926948222976, -1.0838358014849668e-15]\n",
      "Task pose [0.5210389686570943, -0.18650000000000005, 0.48845924906483223, 1.3257061482668236e-14, 162.98045767771987, 4.3111424783900016e-15]\n",
      "Button 1/2/3 = [0, 0, 0]\n",
      "Joint angles:  [-5.825932501469248e-17, -14.755320223413339, -88.53192134047981, -5.53912316185341e-16, -73.77660111706649, 4.2949686721608217e-17]\n",
      "Task pose [0.4594270720906954, -0.18650000000000005, 0.4202829557449156, 1.5240634156079414e-14, 178.8504043592593, 1.9629985924657642e-15]\n",
      "Button 1/2/3 = [0, 0, 0]\n",
      "Joint angles:  [1.5158802370578247e-16, -14.999696130485862, -89.99817678291491, -2.8323492651687363e-15, -74.99848065242934, 9.096702883022893e-16]\n",
      "Task pose [0.4545539654778002, -0.18650000000000005, 0.41608956205519365, 1.6614069738398982e-14, 179.9973401320475, 1.801486050047695e-15]\n",
      "Button 1/2/3 = [0, 0, 0]\n",
      "Joint angles:  [-3.566546091934721e-17, -14.853661379430937, -89.12196827658565, -3.599658212711302e-15, -74.26830689715473, 9.171690738063308e-16]\n",
      "Task pose [0.47233866214525116, -0.18650000000000005, 0.4321140266034445, 1.73273597606039e-14, 175.75331903413087, 2.3854160110976376e-15]\n",
      "Button 1/2/3 = [0, 0, 0]\n",
      "Joint angles:  [6.470749536792947e-17, -13.837831144377402, -83.02698686626432, -3.630711397406047e-15, -69.18915572188715, 1.0557093702969646e-15]\n",
      "Task pose [0.5286728911159118, -0.18650000000000005, 0.49949596044975897, 1.7842594879784868e-14, 160.7480846090775, 4.957192648062278e-15]\n",
      "Button 1/2/3 = [0, 0, 0]\n"
     ]
    }
   ],
   "source": [
    "# Global variables\n",
    "GLOBAL_INDICATOR = {'position': True, 'dio': True, 'program': True, 'terminated': False}\n",
    "\n",
    "\n",
    "# Monitoring current robot position at every 1 sec \n",
    "def monitor_robot_position():\n",
    "    global GLOBAL_INDICATOR\n",
    "    while GLOBAL_INDICATOR['position']:\n",
    "        if GLOBAL_INDICATOR['terminated']:\n",
    "            break\n",
    "        sleep(0.1)\n",
    "        j_pos = indy.get_joint_pos()\n",
    "        t_pos = indy.get_task_pos()\n",
    "        print(\"Joint angles: \", j_pos)\n",
    "        print(\"Task pose\", t_pos)        \n",
    "        \n",
    "# Monitoring digital input at every 1 sec \n",
    "def monitor_dio():\n",
    "    global GLOBAL_INDICATOR\n",
    "    while GLOBAL_INDICATOR['dio']:\n",
    "        if GLOBAL_INDICATOR['terminated']:\n",
    "            break\n",
    "        sleep(0.1)\n",
    "        dis = indy.get_di()\n",
    "        \n",
    "        btn1 = dis[1]\n",
    "        btn2 = dis[3]\n",
    "        btn3 = dis[5]\n",
    "        print(\"Button 1/2/3 = [{}, {}, {}]\".format(btn1, btn2, btn3))\n",
    "        if btn1 == 1:\n",
    "            # TODO: implement an action when button1 on\n",
    "            pass\n",
    "        if btn2 == 1:\n",
    "            # TODO: implement an action when button2 on\n",
    "            pass\n",
    "        if btn3 == 1:\n",
    "            # TODO: implement an action when button3 on\n",
    "            pass\n",
    "\n",
    "# Inifinity loop of robot program \n",
    "def run_program():\n",
    "    global GLOBAL_INDICATOR\n",
    "    while GLOBAL_INDICATOR['program']:        \n",
    "        if GLOBAL_INDICATOR['terminated']:\n",
    "            break\n",
    "        \n",
    "        prog = JsonProgramComponent(policy=0, resume_time=2)\n",
    "        \n",
    "        prog.add_move_home()\n",
    "        prog.add_move_zero()\n",
    "        \n",
    "        indy.set_and_start_json_program(prog.program_done())\n",
    "        indy.wait_for_program_finish()\n",
    "        \n",
    "    GLOBAL_INDICATOR['position'] = False\n",
    "    GLOBAL_INDICATOR['dio'] = False\n",
    "    GLOBAL_INDICATOR['program'] = False\n",
    "    \n",
    "        \n",
    "# Create each thread for 'run_program' and 'get_current_position'\n",
    "th1 = threading.Thread(target=run_program)  # thread for 'run_program'\n",
    "th2 = threading.Thread(target=monitor_robot_position)  # thread for 'get_current_position'\n",
    "th3 = threading.Thread(target=monitor_dio)  # thread for 'get_current_position'\n",
    "\n",
    "th3.start()\n",
    "th2.start()\n",
    "th1.start()"
   ]
  },
  {
   "cell_type": "code",
   "execution_count": 4,
   "metadata": {
    "scrolled": true
   },
   "outputs": [
    {
     "name": "stdout",
     "output_type": "stream",
     "text": [
      "Button 1/2/3 = [0, 0, 0]\n",
      "Joint angles:  [-1.6201848505412956e-16, -11.815494747828984, -70.89296848697391, -7.385893702997178e-16, -59.07747373914508, -2.7773506041153577e-16]\n",
      "Task pose [0.602508222362665, -0.18650000000000003, 0.7126284648954763, 2.5195117456403774e-14, 125.29445676721382, 1.841242983565989e-14]\n",
      "Button 1/2/3 = [0, 0, 0]\n",
      "Joint angles:  [-2.409863055945353e-16, -8.778999506323151, -52.673997037938946, 6.54910419339819e-16, -43.894997531615765, -1.1605116514789522e-15]\n",
      "Task pose [0.5763353059964695, -0.1865, 0.9272797701428545, 2.0648740470347894e-13, 94.60221265653745, 1.99641926470458e-13]\n",
      "Button 1/2/3 = [0, 0, 0]\n"
     ]
    }
   ],
   "source": [
    "# Stop above program\n",
    "indy.stop_motion()\n",
    "\n",
    "GLOBAL_INDICATOR['position'] = False\n",
    "GLOBAL_INDICATOR['dio'] = False\n",
    "GLOBAL_INDICATOR['program'] = False\n",
    "GLOBAL_INDICATOR['terminated'] = True"
   ]
  },
  {
   "cell_type": "code",
   "execution_count": 5,
   "metadata": {},
   "outputs": [],
   "source": [
    "indy.disconnect()"
   ]
  },
  {
   "cell_type": "markdown",
   "metadata": {},
   "source": [
    "## Other functions: Direct variables"
   ]
  },
  {
   "cell_type": "code",
   "execution_count": 13,
   "metadata": {},
   "outputs": [
    {
     "name": "stdout",
     "output_type": "stream",
     "text": [
      "Connect: Server IP (192.168.3.134)\n"
     ]
    }
   ],
   "source": [
    "# Simple variable assignment example\n",
    "indy.connect()\n",
    "\n",
    "# Variables\n",
    "var_name=[\"ab\",\"bc\",\"ca\"]\n",
    "var_value=[1,2,3]\n",
    "var_type=[1,1,1]\n",
    "\n",
    "prog = JsonProgramComponent(policy=0, resume_time=2, var_name=var_name, var_value=var_value, var_type=var_type)\n",
    "\n",
    "prog.add_move_zero()\n",
    "prog.add_var_assign(name=\"ab\", val=100, type=1)  # Variable declaration\n",
    "prog.add_analog_out(idx=0, val=0)\n",
    "\n",
    "prog.add_wait_for(time=3, left_type=10, left_value=\"ab\", right_type=1, right_value=100, op=0)  # Wait for variable assigned to other value\n",
    "prog.add_move_home()\n",
    "\n",
    "indy.set_and_start_json_program(prog.program_done())\n",
    "\n",
    "indy.disconnect()"
   ]
  },
  {
   "cell_type": "markdown",
   "metadata": {},
   "source": [
    "# Practice now ! "
   ]
  }
 ],
 "metadata": {
  "kernelspec": {
   "display_name": "Python 3",
   "language": "python",
   "name": "python3"
  },
  "language_info": {
   "codemirror_mode": {
    "name": "ipython",
    "version": 3
   },
   "file_extension": ".py",
   "mimetype": "text/x-python",
   "name": "python",
   "nbconvert_exporter": "python",
   "pygments_lexer": "ipython3",
   "version": "3.7.4"
  },
  "pycharm": {
   "stem_cell": {
    "cell_type": "raw",
    "metadata": {
     "collapsed": false
    },
    "source": []
   }
  }
 },
 "nbformat": 4,
 "nbformat_minor": 2
}
