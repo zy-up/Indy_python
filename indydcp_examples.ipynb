{
 "cells": [
  {
   "cell_type": "markdown",
   "metadata": {},
   "source": [
    "# Connect to Indy by IndyDCP\n",
    "\n",
    "* robot_ip: IP address of robot (actually, STEP in IndyCB)\n",
    "* name: string represents robot model\n",
    "    * Indy7: \"NRMK-Indy7\"\n",
    "    * IndyRP2: \"NRMK-IndyRP2\"\n",
    "    \n"
   ]
  },
  {
   "cell_type": "code",
   "execution_count": 1,
   "metadata": {
    "pycharm": {
     "is_executing": false
    },
    "scrolled": true
   },
   "outputs": [],
   "source": [
    "from indy_utils import indydcp_client as client\n",
    "\n",
    "import json\n",
    "from time import sleep\n",
    "import threading\n",
    "import numpy as np\n",
    "\n",
    "robot_ip = \"192.168.0.3\"  # Robot (Indy) IP\n",
    "robot_name = \"NRMK-Indy7\"  # Robot name (Indy7)\n",
    "# robot_name = \"NRMK-IndyRP2\"  # Robot name (IndyRP2)\n",
    "\n",
    "# Create class object\n",
    "indy = client.IndyDCPClient(robot_ip, robot_name)"
   ]
  },
  {
   "cell_type": "code",
   "execution_count": 2,
   "metadata": {},
   "outputs": [
    {
     "name": "stdout",
     "output_type": "stream",
     "text": [
      "Connect: Server IP (141.223.199.180)\n"
     ]
    }
   ],
   "source": [
    "# Connect to robot\n",
    "indy.connect()\n",
    "\n",
    "# Disconnect with robot\n",
    "# recommanded for finishing program properly\n",
    "indy.disconnect()"
   ]
  },
  {
   "cell_type": "markdown",
   "metadata": {},
   "source": [
    "# IndyDCP command function examples"
   ]
  },
  {
   "cell_type": "markdown",
   "metadata": {},
   "source": [
    "# Get robot status"
   ]
  },
  {
   "cell_type": "markdown",
   "metadata": {},
   "source": [
    "## Current Indy status\n",
    "* Get robot status each"
   ]
  },
  {
   "cell_type": "code",
   "execution_count": 11,
   "metadata": {
    "scrolled": false
   },
   "outputs": [
    {
     "name": "stdout",
     "output_type": "stream",
     "text": [
      "Connect: Server IP (141.223.199.180)\n",
      "{'ready': 1, 'emergency': 0, 'collision': 0, 'error': 0, 'busy': 0, 'movedone': 0, 'home': 0, 'zero': 0, 'resetting': 0, 'teaching': 0, 'direct_teaching': 0}\n"
     ]
    }
   ],
   "source": [
    "indy.connect()\n",
    "\n",
    "status = indy.get_robot_status()\n",
    "print(status)\n",
    "\n",
    "indy.disconnect()"
   ]
  },
  {
   "cell_type": "code",
   "execution_count": 12,
   "metadata": {},
   "outputs": [
    {
     "data": {
      "text/plain": [
       "0"
      ]
     },
     "execution_count": 12,
     "metadata": {},
     "output_type": "execute_result"
    }
   ],
   "source": [
    "status['resetting']"
   ]
  },
  {
   "cell_type": "markdown",
   "metadata": {},
   "source": [
    "## Emergency stop and reset robot\n",
    "* **emergency_stop()** : enter the emergency mode\n",
    "* **reset_robot()**: reset from the emergency mode"
   ]
  },
  {
   "cell_type": "code",
   "execution_count": 13,
   "metadata": {},
   "outputs": [
    {
     "name": "stdout",
     "output_type": "stream",
     "text": [
      "Connect: Server IP (141.223.199.180)\n",
      "Emergency stop\n",
      "is in resetting?  0\n",
      "is robot ready?  0\n",
      "Resetting robot\n",
      "is in resetting?  1\n",
      "is robot ready?  0\n",
      "Reset robot done\n",
      "is in resetting?  0\n",
      "is robot ready?  1\n"
     ]
    }
   ],
   "source": [
    "indy.connect()\n",
    "indy.stop_emergency()\n",
    "\n",
    "status = indy.get_robot_status()\n",
    "print(\"Emergency stop\")\n",
    "print(\"is in resetting? \", status['resetting'])\n",
    "print(\"is robot ready? \", status['ready'])\n",
    "\n",
    "\n",
    "indy.reset_robot()\n",
    "status = indy.get_robot_status()\n",
    "print(\"Resetting robot\")\n",
    "print(\"is in resetting? \", status['resetting'])\n",
    "print(\"is robot ready? \", status['ready'])\n",
    "\n",
    "\n",
    "sleep(5)\n",
    "status = indy.get_robot_status()\n",
    "print(\"Reset robot done\")\n",
    "print(\"is in resetting? \", status['resetting'])\n",
    "print(\"is robot ready? \", status['ready'])\n",
    "\n",
    "indy.disconnect()"
   ]
  },
  {
   "cell_type": "markdown",
   "metadata": {},
   "source": [
    "## Joint servo and brake control\n",
    "* **get_servo_state()**: get robot's joint servo state\n",
    "* **set_servo()**: set robot's joint servo state"
   ]
  },
  {
   "cell_type": "code",
   "execution_count": 8,
   "metadata": {},
   "outputs": [
    {
     "name": "stdout",
     "output_type": "stream",
     "text": [
      "Connect: Server IP (192.168.3.134)\n",
      "Servo:  [1, 1, 1, 1, 1, 1]\n",
      "Brake:  [0, 0, 0, 0, 0, 0]\n",
      "Turn off joint 6th servo\n",
      "Turn on joint 6th brake\n",
      "Header check fail (cmdId): Request 4, Response 9999\n",
      "ErrorCode 21: Not proper robot state\n",
      "Servo:  [1, 1, 1, 1, 1, 0]\n",
      "Brake:  [0, 0, 0, 0, 0, 1]\n"
     ]
    }
   ],
   "source": [
    "indy.connect()\n",
    "servo, brake = indy.get_servo_state()\n",
    "print(\"Servo: \", servo)\n",
    "print(\"Brake: \", brake)\n",
    "\n",
    "print(\"Turn off joint 6th servo\")\n",
    "indy.set_servo([1, 1, 1, 1, 1, 0])\n",
    "sleep(0.5)\n",
    "print(\"Turn on joint 6th brake\")\n",
    "indy.set_brake([0, 0, 0, 0, 0, 1])\n",
    "\n",
    "servo, brake = indy.get_servo_state()\n",
    "print(\"Servo: \", servo)\n",
    "print(\"Brake: \", brake)\n",
    "indy.disconnect()"
   ]
  },
  {
   "cell_type": "markdown",
   "metadata": {},
   "source": [
    "## Direct teaching mode\n",
    "* **change_to_direct_teaching()** : turn on direct teaching mode\n",
    "* **finish_direct_teaching()** : turn off direct teaching mode"
   ]
  },
  {
   "cell_type": "code",
   "execution_count": 9,
   "metadata": {},
   "outputs": [
    {
     "name": "stdout",
     "output_type": "stream",
     "text": [
      "Connect: Server IP (141.223.199.180)\n",
      "Start direct teaching mode\n"
     ]
    }
   ],
   "source": [
    "indy.connect()\n",
    "\n",
    "print(\"Start direct teaching mode\")\n",
    "indy.direct_teaching(True)\n",
    "\n",
    "indy.disconnect()"
   ]
  },
  {
   "cell_type": "code",
   "execution_count": 10,
   "metadata": {},
   "outputs": [
    {
     "name": "stdout",
     "output_type": "stream",
     "text": [
      "Connect: Server IP (141.223.199.180)\n",
      "Finish direct teaching mode\n"
     ]
    }
   ],
   "source": [
    "indy.connect()\n",
    "\n",
    "indy.direct_teaching(False)\n",
    "print(\"Finish direct teaching mode\")\n",
    "\n",
    "indy.disconnect()"
   ]
  },
  {
   "cell_type": "markdown",
   "metadata": {},
   "source": [
    "## Get Indy data and properties\n",
    "* **get_robot_running_time()**: time after robot turns on by sec\n",
    "* **get_cmode()** : get control mode of robot\n",
    "    * cmode=0: stationary\n",
    "    * cmode=1: joint move\n",
    "    * cmode=2: task move\n",
    "    * cmode=3: direct teaching\n",
    "    * ... (refer to http://docs.neuromeka.com/2.3.0/en/IndyAPI/section2/#robotcontrolshareddata for details)"
   ]
  },
  {
   "cell_type": "code",
   "execution_count": 10,
   "metadata": {},
   "outputs": [
    {
     "name": "stdout",
     "output_type": "stream",
     "text": [
      "Connect: Server IP (192.168.3.134)\n",
      "13128.3525 sec\n",
      "0\n"
     ]
    }
   ],
   "source": [
    "indy.connect()\n",
    "print(indy.get_robot_running_time(), \"sec\")\n",
    "print(indy.get_cmode())\n",
    "indy.disconnect()"
   ]
  },
  {
   "cell_type": "markdown",
   "metadata": {},
   "source": [
    "## Robot properties\n",
    "* **set_collision_level()**: set collision detection sensitivity level\n",
    "* **set_joint_speed_level()**: set joint move velocity level \n",
    "* **set_task_speed_level()**: set task move velocity level\n",
    "* **set_joint_blend_radius()**: set joint move blending radius (3~27 [deg])\n",
    "* **set_task_blend_radius()**: set task move blending radius (0.02~0.2 [meter])  "
   ]
  },
  {
   "cell_type": "code",
   "execution_count": 11,
   "metadata": {},
   "outputs": [
    {
     "name": "stdout",
     "output_type": "stream",
     "text": [
      "Connect: Server IP (141.223.199.180)\n",
      "5\n",
      "3\n",
      "3\n",
      "20.0\n",
      "0.2\n"
     ]
    }
   ],
   "source": [
    "indy.connect()\n",
    "indy.set_collision_level(5)\n",
    "indy.set_joint_vel_level(3)\n",
    "indy.set_task_vel_level(3)\n",
    "indy.set_joint_blend_radius(20)\n",
    "indy.set_task_blend_radius(0.2)\n",
    "\n",
    "print(indy.get_collision_level())\n",
    "print(indy.get_joint_vel_level())\n",
    "print(indy.get_task_vel_level())\n",
    "print(indy.get_joint_blend_radius())\n",
    "print(indy.get_task_blend_radius())\n",
    "indy.disconnect()"
   ]
  },
  {
   "cell_type": "markdown",
   "metadata": {},
   "source": [
    "* **get_joint_pos()**: angles of each joint [deg]\n",
    "* **get_task_pos()**: task space position and orientation [meter, deg]"
   ]
  },
  {
   "cell_type": "code",
   "execution_count": 12,
   "metadata": {},
   "outputs": [
    {
     "name": "stdout",
     "output_type": "stream",
     "text": [
      "Connect: Server IP (192.168.3.134)\n",
      "[89.99682010131491, 4.89995714239108e-14, -89.9988200750943, -3.2772339430097204e-15, -90.00182003576363, 2.2220876110610958e-14]\n",
      "[0.18651942446706263, 0.34998710146675666, 0.5220072077653144, 1.7611327592275283e-14, -179.9993598891421, 89.99682010131488]\n"
     ]
    }
   ],
   "source": [
    "indy.connect()\n",
    "j_pos = indy.get_joint_pos()\n",
    "t_pos = indy.get_task_pos()\n",
    "\n",
    "print(j_pos)\n",
    "print(t_pos)\n",
    "indy.disconnect()"
   ]
  },
  {
   "cell_type": "markdown",
   "metadata": {},
   "source": [
    "* **get_joint_vel_level()**: angular velocity of each joint [deg/s]\n",
    "* **get_task_vel_level()**: task space velocity [m/s, deg/s]\n",
    "* **get_control_torque()**: joint torque applied by the controller [Nm]"
   ]
  },
  {
   "cell_type": "code",
   "execution_count": 12,
   "metadata": {},
   "outputs": [
    {
     "name": "stdout",
     "output_type": "stream",
     "text": [
      "Connect: Server IP (141.223.199.180)\n",
      "3\n",
      "3\n",
      "[-1.0928578116571668e-19, 0.004674716095771055, 0.004203468635986184, -8.097916054948144e-16, 0.0014535208197491176, -4.284995417780908e-19]\n"
     ]
    }
   ],
   "source": [
    "indy.connect()\n",
    "j_vel = indy.get_joint_vel_level()\n",
    "t_vel = indy.get_task_vel_level()\n",
    "torque = indy.get_control_torque()\n",
    "\n",
    "print(j_vel)\n",
    "print(t_vel)\n",
    "print(torque)\n",
    "indy.disconnect()"
   ]
  },
  {
   "cell_type": "markdown",
   "metadata": {},
   "source": [
    "### Error information\n",
    "* **get_last_emergency_info()**: get last log message with error code and specific error value"
   ]
  },
  {
   "cell_type": "code",
   "execution_count": 14,
   "metadata": {},
   "outputs": [
    {
     "name": "stdout",
     "output_type": "stream",
     "text": [
      "Connect: Server IP (192.168.3.134)\n",
      "-1\n",
      "[0, 0, 0]\n",
      "[0.0, 0.0, 0.0]\n"
     ]
    }
   ],
   "source": [
    "indy.connect()\n",
    "e_code, e1, e2 = indy.get_last_emergency_info()\n",
    "print(e_code)\n",
    "print(e1)\n",
    "print(e2)\n",
    "indy.disconnect()"
   ]
  },
  {
   "cell_type": "markdown",
   "metadata": {},
   "source": [
    "## Motion commands\n",
    "### Warning! Indy will move. Please clean the area around the robot\n",
    "* **go_home()**: move to home position\n",
    "* **go_zero()**: move to zero position\n",
    "* **stop_motion()**: stop moving\n",
    "* **execute_move(cmd_name)**: execute specific move command saved in Conty's 1st default program"
   ]
  },
  {
   "cell_type": "code",
   "execution_count": 15,
   "metadata": {},
   "outputs": [
    {
     "name": "stdout",
     "output_type": "stream",
     "text": [
      "Connect: Server IP (192.168.3.134)\n"
     ]
    },
    {
     "data": {
      "text/plain": [
       "True"
      ]
     },
     "execution_count": 15,
     "metadata": {},
     "output_type": "execute_result"
    }
   ],
   "source": [
    "indy.connect()"
   ]
  },
  {
   "cell_type": "code",
   "execution_count": 16,
   "metadata": {},
   "outputs": [],
   "source": [
    "indy.go_home()"
   ]
  },
  {
   "cell_type": "code",
   "execution_count": 17,
   "metadata": {},
   "outputs": [],
   "source": [
    "indy.go_zero()"
   ]
  },
  {
   "cell_type": "code",
   "execution_count": 18,
   "metadata": {},
   "outputs": [],
   "source": [
    "indy.stop_motion()"
   ]
  },
  {
   "cell_type": "code",
   "execution_count": 20,
   "metadata": {},
   "outputs": [],
   "source": [
    "cmd_name = \"j_move1\" # cmd_name is a move name in Conty program tree of 1st default program \n",
    "indy.execute_move(cmd_name)"
   ]
  },
  {
   "cell_type": "code",
   "execution_count": 21,
   "metadata": {},
   "outputs": [],
   "source": [
    "indy.disconnect()"
   ]
  },
  {
   "cell_type": "markdown",
   "metadata": {},
   "source": [
    "### Joint move and Task move\n",
    "* **joint_move_to()**: joint move to defined absolute position [deg]\n",
    "* **joint_move_by()**: joint move to defined position by relative value based on current position [deg]\n",
    "* **task_move_to()**: task move to defined absolute position [meter, deg]\n",
    "* **task_move_by()**: task move to defined position by relative value based on current position [meter, deg]"
   ]
  },
  {
   "cell_type": "code",
   "execution_count": 22,
   "metadata": {},
   "outputs": [
    {
     "name": "stdout",
     "output_type": "stream",
     "text": [
      "Connect: Server IP (192.168.3.134)\n"
     ]
    },
    {
     "data": {
      "text/plain": [
       "True"
      ]
     },
     "execution_count": 22,
     "metadata": {},
     "output_type": "execute_result"
    }
   ],
   "source": [
    "indy.connect()"
   ]
  },
  {
   "cell_type": "code",
   "execution_count": 23,
   "metadata": {},
   "outputs": [
    {
     "name": "stdout",
     "output_type": "stream",
     "text": [
      "j_pos1 [92.59613439830707, -1.8434750478895254, -108.86081578922634, 3.0990637729111455e-05, -69.29679914569108, 4.44921440047707]\n",
      "t_pos1 [0.1708233584431076, 0.34996463235861464, 0.3980262907463989, 5.565404859292633e-05, -179.99891105301998, 88.14690904099503]\n"
     ]
    }
   ],
   "source": [
    "j_pos1 = indy.get_joint_pos()\n",
    "t_pos1 = indy.get_task_pos()\n",
    "print(\"j_pos1\", j_pos1)\n",
    "print(\"t_pos1\", t_pos1)"
   ]
  },
  {
   "cell_type": "code",
   "execution_count": 24,
   "metadata": {},
   "outputs": [],
   "source": [
    "j_pos1[5] += 20  # move for Indy7\n",
    "# j_pos1[6] += 20  # move for IndyRP2\n",
    "indy.joint_move_to(j_pos1)  # Move 6th joint"
   ]
  },
  {
   "cell_type": "code",
   "execution_count": 25,
   "metadata": {},
   "outputs": [],
   "source": [
    "j_pos_rel = [0, 0, 0, 0, 0, -20]  # move for Indy7\n",
    "# j_pos_rel = [0, 0, 0, 0, 0, 0, -20]  # move for IndyRP2\n",
    "indy.joint_move_by(j_pos_rel)"
   ]
  },
  {
   "cell_type": "code",
   "execution_count": 26,
   "metadata": {},
   "outputs": [],
   "source": [
    "t_pos1[2] += 0.1\n",
    "indy.task_move_to(t_pos1)  # Move along z-axis"
   ]
  },
  {
   "cell_type": "code",
   "execution_count": 27,
   "metadata": {},
   "outputs": [],
   "source": [
    "t_pos_rel = [0, 0, -0.1, 0, 0, 0]\n",
    "indy.task_move_by(t_pos_rel)"
   ]
  },
  {
   "cell_type": "code",
   "execution_count": 28,
   "metadata": {},
   "outputs": [],
   "source": [
    "indy.disconnect()"
   ]
  },
  {
   "cell_type": "markdown",
   "metadata": {},
   "source": [
    "## Default program and current program control"
   ]
  },
  {
   "cell_type": "code",
   "execution_count": 29,
   "metadata": {},
   "outputs": [
    {
     "name": "stdout",
     "output_type": "stream",
     "text": [
      "Connect: Server IP (192.168.3.134)\n"
     ]
    },
    {
     "data": {
      "text/plain": [
       "True"
      ]
     },
     "execution_count": 29,
     "metadata": {},
     "output_type": "execute_result"
    }
   ],
   "source": [
    "indy.connect()"
   ]
  },
  {
   "cell_type": "code",
   "execution_count": 30,
   "metadata": {},
   "outputs": [
    {
     "name": "stdout",
     "output_type": "stream",
     "text": [
      "Current default program index:  1\n",
      "Start the default program\n",
      "Pause current program\n",
      "Resume current program\n",
      "Stop current program\n"
     ]
    }
   ],
   "source": [
    "indy.set_default_program(1)\n",
    "\n",
    "print(\"Current default program index: \", indy.get_default_program_idx())\n",
    "\n",
    "print(\"Start the default program\")\n",
    "indy.start_default_program()\n",
    "\n",
    "sleep(1)\n",
    "print(\"Pause current program\")\n",
    "indy.pause_current_program()\n",
    "\n",
    "sleep(1)\n",
    "print(\"Resume current program\")\n",
    "indy.resume_current_program()\n",
    "\n",
    "sleep(1)\n",
    "print(\"Stop current program\")\n",
    "indy.stop_current_program()"
   ]
  },
  {
   "cell_type": "code",
   "execution_count": 31,
   "metadata": {},
   "outputs": [],
   "source": [
    "indy.disconnect()"
   ]
  },
  {
   "cell_type": "markdown",
   "metadata": {},
   "source": [
    "## Interfacing with external devices using DIO and AIO"
   ]
  },
  {
   "cell_type": "markdown",
   "metadata": {},
   "source": [
    "## Analog input and output\n",
    "* Analog input/output 0-10V: 0-10000"
   ]
  },
  {
   "cell_type": "code",
   "execution_count": 2,
   "metadata": {},
   "outputs": [
    {
     "name": "stdout",
     "output_type": "stream",
     "text": [
      "Connect: Server IP (141.223.199.180)\n"
     ]
    },
    {
     "data": {
      "text/plain": [
       "True"
      ]
     },
     "execution_count": 2,
     "metadata": {},
     "output_type": "execute_result"
    }
   ],
   "source": [
    "indy.connect()"
   ]
  },
  {
   "cell_type": "code",
   "execution_count": 3,
   "metadata": {
    "scrolled": false
   },
   "outputs": [
    {
     "name": "stdout",
     "output_type": "stream",
     "text": [
      "0\n",
      "0\n"
     ]
    }
   ],
   "source": [
    "print(indy.get_ai(0))   # Get analog input from AI channel 1\n",
    "print(indy.get_ai(1))   # Get analog input from AI channel 2"
   ]
  },
  {
   "cell_type": "code",
   "execution_count": 3,
   "metadata": {},
   "outputs": [],
   "source": [
    "indy.set_ao(idx=0, val=10000) # 10V output to AI channel 1\n",
    "indy.set_ao(idx=1, val=2000)  # 2V output to AI channel 2"
   ]
  },
  {
   "cell_type": "code",
   "execution_count": 3,
   "metadata": {},
   "outputs": [],
   "source": [
    "indy.disconnect()"
   ]
  },
  {
   "cell_type": "markdown",
   "metadata": {},
   "source": [
    "## Digital input"
   ]
  },
  {
   "cell_type": "code",
   "execution_count": 7,
   "metadata": {},
   "outputs": [
    {
     "name": "stdout",
     "output_type": "stream",
     "text": [
      "Connect: Server IP (141.223.199.180)\n",
      "[DI0, DI20]: [0, 1]\n"
     ]
    }
   ],
   "source": [
    "indy.connect()\n",
    "\n",
    "dis = indy.get_di()\n",
    "print(\"[DI0, DI20]: [{}, {}]\".format(dis[0], dis[20]))\n",
    "\n",
    "indy.disconnect()"
   ]
  },
  {
   "cell_type": "markdown",
   "metadata": {},
   "source": [
    "## Digital output"
   ]
  },
  {
   "cell_type": "code",
   "execution_count": 8,
   "metadata": {},
   "outputs": [
    {
     "name": "stdout",
     "output_type": "stream",
     "text": [
      "Connect: Server IP (141.223.199.180)\n"
     ]
    },
    {
     "data": {
      "text/plain": [
       "True"
      ]
     },
     "execution_count": 8,
     "metadata": {},
     "output_type": "execute_result"
    }
   ],
   "source": [
    "indy.connect()"
   ]
  },
  {
   "cell_type": "code",
   "execution_count": 9,
   "metadata": {},
   "outputs": [],
   "source": [
    "idx = 8\n",
    "\n",
    "indy.set_do(8, True)\n",
    "sleep(1)\n",
    "indy.set_do(8, False)"
   ]
  },
  {
   "cell_type": "code",
   "execution_count": 37,
   "metadata": {},
   "outputs": [],
   "source": [
    "dos_all = [False]*32   # 32 boolean list\n",
    "\n",
    "dos_all[2] = True\n",
    "dos_all[4] = True\n",
    "dos_all[8] = True\n",
    "dos_all[12] = True\n",
    "\n",
    "indy.set_smart_dos(dos_all)\n",
    "sleep(2)\n",
    "\n",
    "\n",
    "dos_all = [False]*32\n",
    "indy.set_smart_dos(dos_all)"
   ]
  },
  {
   "cell_type": "code",
   "execution_count": 10,
   "metadata": {},
   "outputs": [],
   "source": [
    "indy.disconnect()"
   ]
  },
  {
   "cell_type": "markdown",
   "metadata": {},
   "source": [
    "## EndTool output"
   ]
  },
  {
   "cell_type": "code",
   "execution_count": 7,
   "metadata": {},
   "outputs": [
    {
     "data": {
      "text/plain": [
       "1"
      ]
     },
     "execution_count": 7,
     "metadata": {},
     "output_type": "execute_result"
    }
   ],
   "source": [
    "# endtool_type:\n",
    "# 0: NPN, 1: PNP, 2: Not use, 3: eModi\n",
    "\n",
    "endtool_type = 0\n",
    "indy.set_endtool_do(endtool_type, 1)  # val: 0(off), 1(on)\n",
    "sleep(1)\n",
    "indy.get_endtool_do(endtool_type)"
   ]
  },
  {
   "cell_type": "code",
   "execution_count": 18,
   "metadata": {},
   "outputs": [],
   "source": [
    "indy.disconnect()"
   ]
  },
  {
   "cell_type": "markdown",
   "metadata": {},
   "source": [
    "## Direct variables\n",
    "### Assign/Read direct variable\n",
    "* Please refer to http://docs.neuromeka.com/2.3.0/en/IndyAPI/section3/ for details about direct variables"
   ]
  },
  {
   "cell_type": "code",
   "execution_count": 12,
   "metadata": {},
   "outputs": [
    {
     "name": "stdout",
     "output_type": "stream",
     "text": [
      "Connect: Server IP (192.168.3.126)\n"
     ]
    },
    {
     "data": {
      "text/plain": [
       "True"
      ]
     },
     "execution_count": 12,
     "metadata": {},
     "output_type": "execute_result"
    }
   ],
   "source": [
    "indy.connect()"
   ]
  },
  {
   "cell_type": "code",
   "execution_count": 38,
   "metadata": {
    "scrolled": true
   },
   "outputs": [
    {
     "name": "stdout",
     "output_type": "stream",
     "text": [
      "[  0   0   0   0 231   0   0   0  12   0   0   0   0   0   0   0   0   0\n",
      "   0   0   0   0   0   0   0   0   0   0   0   0   0   0   0   0   0   0\n",
      "   0   0   0   0   0   0   0   0   0   0   0   0   0   0   0   0   0   0\n",
      "   0   0   0   0   0   0   0   0   0   0   0   0   0   0   0   0   0   0\n",
      "   0   0   0   0   0   0   0   0   0   0   0   0   0   0   0   0   0   0\n",
      "   0   0   0   0   0   0   0   0   0   0   0   0   0   0   0   0   0   0\n",
      "   0   0   0   0   0   0   0   0   0   0   0   0   0   0   0   0   0   0\n",
      "   0   0   0   0   0   0   0   0   0   0   0   0   0   0   0   0   0   0\n",
      "   0   0   0   0   0   0   0   0   0   0   0   0   0   0   0   0   0   0\n",
      "   0   0   0   0   0   0   0   0   0   0   0   0   0   0   0   0   0   0\n",
      "   0   0   0   0   0   0   0   0   0   0   0   0   0   0   0   0   0   0\n",
      "   0   0]\n",
      "9\n",
      "B231= 12\n",
      "[  1   0   0   0 112   0   0   0  30 239   0   0   0   0   0   0   0   0\n",
      "   0   0   0   0   0   0   0   0   0   0   0   0   0   0   0   0   0   0\n",
      "   0   0   0   0   0   0   0   0   0   0   0   0   0   0   0   0   0   0\n",
      "   0   0   0   0   0   0   0   0   0   0   0   0   0   0   0   0   0   0\n",
      "   0   0   0   0   0   0   0   0   0   0   0   0   0   0   0   0   0   0\n",
      "   0   0   0   0   0   0   0   0   0   0   0   0   0   0   0   0   0   0\n",
      "   0   0   0   0   0   0   0   0   0   0   0   0   0   0   0   0   0   0\n",
      "   0   0   0   0   0   0   0   0   0   0   0   0   0   0   0   0   0   0\n",
      "   0   0   0   0   0   0   0   0   0   0   0   0   0   0   0   0   0   0\n",
      "   0   0   0   0   0   0   0   0   0   0   0   0   0   0   0   0   0   0\n",
      "   0   0   0   0   0   0   0   0   0   0   0   0   0   0   0   0   0   0\n",
      "   0   0]\n",
      "10\n",
      "[30, 239]\n",
      "W112= -4322\n",
      "I231= -223\n",
      "L058= 9223372032559812\n",
      "F998= -847.2130126953125\n",
      "D700= 327697.113\n",
      "M700= 1000\n"
     ]
    }
   ],
   "source": [
    "DIRECT_VAR_TYPE_BYTE       = 0   # 1 Byte unsigned integer (0-255)\n",
    "DIRECT_VAR_TYPE_WORD       = 1   # 2 Byte integer (-32768 - 32767)\n",
    "DIRECT_VAR_TYPE_DWORD      = 2   # 4 Byte integer (-2,147,483,648 - 2,147,483,647)\n",
    "DIRECT_VAR_TYPE_LWORD      = 3   # 8 Byte integer (-9223372036854775808 to 9223372032559808511)\n",
    "DIRECT_VAR_TYPE_FLOAT      = 4   # 4 Byte floating number\n",
    "DIRECT_VAR_TYPE_DFLOAT     = 5   # 8 Byte floating number\n",
    "DIRECT_VAR_TYPE_MODBUS_REG = 10  # ModbusTCP, 2 Byte unsigned integer (0 - 65535)\n",
    "\n",
    "\n",
    "# B\n",
    "indy.write_direct_variable(dv_type=DIRECT_VAR_TYPE_BYTE, dv_addr=231, val=12)\n",
    "val = indy.read_direct_variable(dv_type=DIRECT_VAR_TYPE_BYTE, dv_addr=231)\n",
    "print(\"B231=\", val)\n",
    "\n",
    "# W\n",
    "indy.write_direct_variable(dv_type=DIRECT_VAR_TYPE_WORD, dv_addr=112, val=-4322)\n",
    "val = indy.read_direct_variable(dv_type=DIRECT_VAR_TYPE_WORD, dv_addr=112)\n",
    "print(\"W112=\", val)\n",
    "\n",
    "# I\n",
    "indy.write_direct_variable(dv_type=DIRECT_VAR_TYPE_DWORD, dv_addr=231, val=-223)\n",
    "res = indy.read_direct_variable(dv_type=DIRECT_VAR_TYPE_DWORD, dv_addr=231)\n",
    "print(\"I231=\", res)\n",
    "\n",
    "# L\n",
    "indy.write_direct_variable(dv_type=DIRECT_VAR_TYPE_LWORD, dv_addr=58, val=9223372032559812)\n",
    "val = indy.read_direct_variable(dv_type=DIRECT_VAR_TYPE_LWORD, dv_addr=58)\n",
    "print(\"L058=\", val)\n",
    "\n",
    "# F\n",
    "indy.write_direct_variable(dv_type=DIRECT_VAR_TYPE_FLOAT, dv_addr=998, val=-847.213)\n",
    "val = indy.read_direct_variable(dv_type=DIRECT_VAR_TYPE_FLOAT, dv_addr=998)\n",
    "print(\"F998=\", val)\n",
    "\n",
    "# D\n",
    "indy.write_direct_variable(dv_type=DIRECT_VAR_TYPE_DFLOAT, dv_addr=700, val=327697.113)\n",
    "val = indy.read_direct_variable(dv_type=DIRECT_VAR_TYPE_DFLOAT, dv_addr=700)\n",
    "print(\"D700=\", val)\n",
    "\n",
    "# M (Modbus)\n",
    "indy.write_direct_variable(dv_type=DIRECT_VAR_TYPE_MODBUS_REG, dv_addr=120, val=1000)\n",
    "val = indy.read_direct_variable(dv_type=DIRECT_VAR_TYPE_MODBUS_REG, dv_addr=120)\n",
    "print(\"M700=\", val)"
   ]
  },
  {
   "cell_type": "code",
   "execution_count": 39,
   "metadata": {
    "scrolled": true
   },
   "outputs": [
    {
     "name": "stdout",
     "output_type": "stream",
     "text": [
      "B0-9= [1, 2, 253, 4, 5, 250, 7, 8, 247, 10]\n",
      "W0-9= [10, 20, -30, 40, 50, -60, 70, 80, -90, 100]\n",
      "I0-9= [100, 200, -300, 400, 500, -600, 700, 800, -900, 1000]\n",
      "L0-9= [1000, 2000, -3000, 4000, 5000, -6000, 7000, 8000, -9000, 10000]\n",
      "F0-9= [1.1, 2.2, -3.3, 4.4, 5.5, -6.6, 7.7, 8.8, -9.9, 10.1]\n",
      "D0-9= [0.01, 0.02, -0.03, 0.04, 0.05, -0.06, 0.07, 0.08, -0.09, 0.1]\n",
      "M0-9= [11, 22, 65503, 44, 55, 65470, 77, 88, 65437, 111]\n"
     ]
    }
   ],
   "source": [
    "indy.write_direct_variables(dv_type=DIRECT_VAR_TYPE_BYTE, dv_addr=0, dv_len=10, val=[1, 2, -3, 4, 5, -6, 7, 8, -9, 10])\n",
    "val = indy.read_direct_variables(dv_type=DIRECT_VAR_TYPE_BYTE, dv_addr=0, dv_len=10)\n",
    "print(\"B0-9=\", val)\n",
    "\n",
    "indy.write_direct_variables(dv_type=DIRECT_VAR_TYPE_WORD, dv_addr=0, dv_len=10, val=[10, 20, -30, 40, 50, -60, 70, 80, -90, 100])\n",
    "val = indy.read_direct_variables(dv_type=DIRECT_VAR_TYPE_WORD, dv_addr=0, dv_len=10)\n",
    "print(\"W0-9=\", val)\n",
    "\n",
    "indy.write_direct_variables(dv_type=DIRECT_VAR_TYPE_DWORD, dv_addr=0, dv_len=10, val=[100, 200, -300, 400, 500, -600, 700, 800, -900, 1000])\n",
    "val = indy.read_direct_variables(dv_type=DIRECT_VAR_TYPE_DWORD, dv_addr=0, dv_len=10)\n",
    "print(\"I0-9=\", val)\n",
    "\n",
    "indy.write_direct_variables(dv_type=DIRECT_VAR_TYPE_LWORD, dv_addr=0, dv_len=10, val=[1000, 2000, -3000, 4000, 5000, -6000, 7000, 8000, -9000, 10000])\n",
    "val = indy.read_direct_variables(dv_type=DIRECT_VAR_TYPE_LWORD, dv_addr=0, dv_len=10)\n",
    "print(\"L0-9=\", val)\n",
    "\n",
    "indy.write_direct_variables(dv_type=DIRECT_VAR_TYPE_FLOAT, dv_addr=0, dv_len=10, val=[1.1, 2.2, -3.3, 4.4, 5.5, -6.6, 7.7, 8.8, -9.9, 10.1])\n",
    "val = indy.read_direct_variables(dv_type=DIRECT_VAR_TYPE_FLOAT, dv_addr=0, dv_len=10)\n",
    "print(\"F0-9=\", val)\n",
    "\n",
    "indy.write_direct_variables(dv_type=DIRECT_VAR_TYPE_DFLOAT, dv_addr=0, dv_len=10, val=[0.01, 0.02, -0.03, 0.04, 0.05, -0.06, 0.07, 0.08, -0.09, 0.1])\n",
    "val = indy.read_direct_variables(dv_type=DIRECT_VAR_TYPE_DFLOAT, dv_addr=0, dv_len=10)\n",
    "print(\"D0-9=\", val)\n",
    "\n",
    "indy.write_direct_variables(dv_type=DIRECT_VAR_TYPE_MODBUS_REG, dv_addr=0, dv_len=10, val=[11, 22, -33, 44, 55, -66, 77, 88, -99, 111])\n",
    "val = indy.read_direct_variables(dv_type=DIRECT_VAR_TYPE_MODBUS_REG, dv_addr=0, dv_len=10)\n",
    "print(\"M0-9=\", val)"
   ]
  },
  {
   "cell_type": "code",
   "execution_count": 40,
   "metadata": {},
   "outputs": [],
   "source": [
    "indy.disconnect()"
   ]
  },
  {
   "cell_type": "markdown",
   "metadata": {},
   "source": [
    "## Extended IndyDCP"
   ]
  },
  {
   "cell_type": "markdown",
   "metadata": {},
   "source": [
    "## External Trajectory Move\n",
    "### Data ordering (Joint)\n",
    "* qd[0] > qd[1] > qd[2] > qd[3] > qd[4] > qd[5] > qdotd[0] > qdotd[1] > ... > qdotd[5] > qddotd[0] > qddotd[1] > ... > next time"
   ]
  },
  {
   "cell_type": "markdown",
   "metadata": {},
   "source": [
    "### Text type trajectory move "
   ]
  },
  {
   "cell_type": "code",
   "execution_count": 41,
   "metadata": {},
   "outputs": [
    {
     "name": "stdout",
     "output_type": "stream",
     "text": [
      "Connect: Server IP (192.168.3.134)\n"
     ]
    },
    {
     "data": {
      "text/plain": [
       "True"
      ]
     },
     "execution_count": 41,
     "metadata": {},
     "output_type": "execute_result"
    }
   ],
   "source": [
    "indy.connect()"
   ]
  },
  {
   "cell_type": "code",
   "execution_count": 42,
   "metadata": {},
   "outputs": [],
   "source": [
    "# Load predefined trajectory data to list\n",
    "file_path = 'traj_data/indy7_joint_small.txt'  \n",
    "dat = np.loadtxt(file_path)\n",
    "dat_flt = dat.flatten()\n",
    "traj_data = dat_flt.tolist()\n",
    "\n",
    "# Options\n",
    "traj_type = 1  # 1 for joint move, 2 for task move\n",
    "traj_freq = 4000  # control rate\n",
    "dat_size = 6  # DOF\n",
    "\n",
    "\n",
    "# External trajectory move with text data\n",
    "indy.move_ext_traj_txt(traj_type, traj_freq, dat_size, traj_data)"
   ]
  },
  {
   "cell_type": "code",
   "execution_count": 43,
   "metadata": {},
   "outputs": [],
   "source": [
    "indy.disconnect()"
   ]
  },
  {
   "cell_type": "markdown",
   "metadata": {},
   "source": [
    "### Binary type trajectory move"
   ]
  },
  {
   "cell_type": "code",
   "execution_count": 44,
   "metadata": {},
   "outputs": [
    {
     "name": "stdout",
     "output_type": "stream",
     "text": [
      "Connect: Server IP (192.168.3.134)\n"
     ]
    },
    {
     "data": {
      "text/plain": [
       "True"
      ]
     },
     "execution_count": 44,
     "metadata": {},
     "output_type": "execute_result"
    }
   ],
   "source": [
    "indy.connect()"
   ]
  },
  {
   "cell_type": "code",
   "execution_count": 45,
   "metadata": {},
   "outputs": [],
   "source": [
    "# Load predefined trajectory data to list\n",
    "file_path = 'traj_data/indy7_joint_small.txt'\n",
    "dat = np.loadtxt(file_path)\n",
    "dat_flt = dat.flatten()\n",
    "traj_data = dat_flt.tolist()\n",
    "\n",
    "# Options\n",
    "traj_type = 1  # 1 for joint move, 2 for task move\n",
    "traj_freq = 4000  # control rate\n",
    "dat_size = 6  # DOF\n",
    "\n",
    "\n",
    "# External trajectory move with binary data\n",
    "indy.move_ext_traj_bin(traj_type, traj_freq, dat_size, traj_data)"
   ]
  },
  {
   "cell_type": "code",
   "execution_count": 10,
   "metadata": {},
   "outputs": [],
   "source": [
    "indy.disconnect()"
   ]
  },
  {
   "cell_type": "markdown",
   "metadata": {},
   "source": [
    "### Save trajectory text file with options"
   ]
  },
  {
   "cell_type": "code",
   "execution_count": 45,
   "metadata": {},
   "outputs": [
    {
     "data": {
      "text/plain": [
       "585077"
      ]
     },
     "execution_count": 45,
     "metadata": {},
     "output_type": "execute_result"
    }
   ],
   "source": [
    "# Load predefined trajectory data to list\n",
    "file_path = 'traj_data/indy7_joint_small.txt'\n",
    "dat = np.loadtxt(file_path)\n",
    "dat_flt = dat.flatten()\n",
    "traj_data = dat_flt.tolist()\n",
    "\n",
    "# Options\n",
    "traj_type = 1  # 1 for joint move, 2 for task move\n",
    "traj_freq = 4000  # control rate\n",
    "dat_size = 6  # DOF\n",
    "\n",
    "# Default options (need not to be modified)\n",
    "opt_len = 5\n",
    "dat_num = 3 # (qd, qdotd, qddotd) or (pd, pdotd, pddotd)\n",
    "dat_len = len(traj_data)\n",
    "\n",
    "# Save options with trajectory data\n",
    "ext_data_size = opt_len + dat_len\n",
    "ext_data = [None] * ext_data_size\n",
    "ext_data[0] = traj_type\n",
    "ext_data[1] = traj_freq\n",
    "ext_data[2] = dat_num\n",
    "ext_data[3] = dat_size\n",
    "ext_data[4] = int(dat_len/(dat_size*dat_num))  # traj_len\n",
    "ext_data[5:-1] = traj_data\n",
    "\n",
    "ext_data_str = ' '.join(str(e) for e in ext_data)\n",
    "\n",
    "\n",
    "# Make binary file\n",
    "newFile = open(\"traj_data/indy7_joint_small_ext.txt\", \"wt\") # It should be moved to STEP!!\n",
    "\n",
    "# Write to file\n",
    "newFile.write(ext_data_str)\n",
    "\n",
    "# After copy file to STEP, please this command via SSH (e.g. putty)\n",
    "# chmod 777 * /home/user/Downloads/"
   ]
  },
  {
   "cell_type": "markdown",
   "metadata": {},
   "source": [
    "### Save trajectory text file to binary file"
   ]
  },
  {
   "cell_type": "code",
   "execution_count": 40,
   "metadata": {},
   "outputs": [
    {
     "data": {
      "text/plain": [
       "409124"
      ]
     },
     "execution_count": 40,
     "metadata": {},
     "output_type": "execute_result"
    }
   ],
   "source": [
    "# Load predefined trajectory data to list\n",
    "file_path = 'traj_data/indy7_joint_small.txt'\n",
    "dat = np.loadtxt(file_path)\n",
    "dat_flt = dat.flatten()\n",
    "traj_data = dat_flt.tolist()\n",
    "\n",
    "# Options\n",
    "traj_type = 1  # 1 for joint move, 2 for task move\n",
    "traj_freq = 4000  # control rate\n",
    "dat_size = 6  # DOF\n",
    "\n",
    "# Default options (need not to be modified)\n",
    "opt_len = 5\n",
    "dat_num = 3 # (qd, qdotd, qddotd) or (pd, pdotd, pddotd)\n",
    "dat_len = len(traj_data)\n",
    "\n",
    "# Save options to data array data\n",
    "opt_data = [None] * opt_len\n",
    "opt_data[0] = traj_type\n",
    "opt_data[1] = traj_freq\n",
    "opt_data[2] = dat_num\n",
    "opt_data[3] = dat_size\n",
    "opt_data[4] = int(dat_len/(dat_size*dat_num))  # traj_len\n",
    "\n",
    "ext_data1 = np.array(opt_data).tobytes()\n",
    "ext_data2 = np.array(traj_data).tobytes()\n",
    "req_ext_data = ext_data1 + ext_data2\n",
    "\n",
    "\n",
    "# Make binary file\n",
    "newFile = open(\"traj_data/indy7_joint_small\", \"wb\") # It should be moved to STEP!!\n",
    "\n",
    "# Write to file\n",
    "newFile.write(req_ext_data)\n",
    "\n",
    "# After copy file to STEP, please this command via SSH (e.g. putty)\n",
    "# chmod 777 * /home/user/Downloads/"
   ]
  },
  {
   "cell_type": "markdown",
   "metadata": {},
   "source": [
    "### Trajectory move by reading binary file in STEP"
   ]
  },
  {
   "cell_type": "code",
   "execution_count": 48,
   "metadata": {},
   "outputs": [
    {
     "name": "stdout",
     "output_type": "stream",
     "text": [
      "Connect: Server IP (192.168.3.134)\n"
     ]
    }
   ],
   "source": [
    "file_path = '/home/user/Downloads/indy7_joint_small'\n",
    "\n",
    "indy.connect()\n",
    "indy.move_ext_traj_bin_file(file_path)"
   ]
  },
  {
   "cell_type": "code",
   "execution_count": null,
   "metadata": {},
   "outputs": [],
   "source": [
    "indy.disconnect()"
   ]
  },
  {
   "cell_type": "markdown",
   "metadata": {},
   "source": [
    "### Trajectory move by reading text file in STEP"
   ]
  },
  {
   "cell_type": "code",
   "execution_count": 49,
   "metadata": {},
   "outputs": [
    {
     "name": "stdout",
     "output_type": "stream",
     "text": [
      "Connect: Server IP (192.168.3.134)\n"
     ]
    }
   ],
   "source": [
    "file_path = '/home/user/Downloads/indy7_joint_small_ext.txt'\n",
    "\n",
    "indy.connect()\n",
    "indy.move_ext_traj_txt_file(file_path)"
   ]
  },
  {
   "cell_type": "code",
   "execution_count": 50,
   "metadata": {},
   "outputs": [],
   "source": [
    "indy.disconnect()"
   ]
  }
 ],
 "metadata": {
  "kernelspec": {
   "display_name": "Python 3",
   "language": "python",
   "name": "python3"
  },
  "language_info": {
   "codemirror_mode": {
    "name": "ipython",
    "version": 3
   },
   "file_extension": ".py",
   "mimetype": "text/x-python",
   "name": "python",
   "nbconvert_exporter": "python",
   "pygments_lexer": "ipython3",
   "version": "3.7.4"
  },
  "pycharm": {
   "stem_cell": {
    "cell_type": "raw",
    "metadata": {
     "collapsed": false
    },
    "source": []
   }
  }
 },
 "nbformat": 4,
 "nbformat_minor": 2
}
